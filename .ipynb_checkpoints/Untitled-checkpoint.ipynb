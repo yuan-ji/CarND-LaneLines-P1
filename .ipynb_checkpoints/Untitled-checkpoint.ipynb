{
 "cells": [
  {
   "cell_type": "markdown",
   "metadata": {},
   "source": [
    "# **Finding Lane Lines on the Road** \n",
    "---\n",
    "\n",
    "**Finding Lane Lines on the Road**\n",
    "\n",
    "The goals / steps of this project are the following:\n",
    "* Make a pipeline that finds lane lines on the road\n",
    "* Reflect on your work in a written report\n",
    "\n",
    "---\n",
    "\n",
    "### Reflection\n",
    "\n",
    "### 1. Describe your pipeline. As part of the description, explain how you modified the draw_lines() function.\n",
    "\n",
    "My pipeline consisted of 6 steps.\n",
    "\n",
    "- Converting the images to grayscale\n",
    "- Applying Gaussian smoothing filter onto the grayscale image\n",
    "- Applying the Canny algorithm to ectract the edages \n",
    "- Using ROI filter reduce the noise, such as tree and other cars\n",
    "- Apply hough_line transformation to extract the lane \n",
    "- Draw the line on the initial image \n",
    "\n",
    "\n",
    "In order to draw a single line on the left and right lanes, I modified the draw_lines() function by using the average strategie. The workflow is following\n",
    "\n",
    "1. For each line, according the slope to decide that which line belongs to the left side, which belong to the right one.\n",
    "    - slope = (y2-y1)/(x2-x1)\n",
    "    - slope > 0.0 , the line belongs to the left, store the two points (x1,y1) (x2,y2) into left set\n",
    "    - slope < 0.0, the line is part of the right segements, store the two points (x1,y1) (x2,y2) into right set\n",
    "2. Calculate the average posion and average slope of each set. Then the each line of lane is determined.\n",
    "3. Computing the endpoint on the top and bottom for left and right lines.\n",
    "    - According the formula (y_ref-y_tar)/(x_ref-x_tar) = slope, (x_ref,y_ref) is the result shown above.\n",
    "    - The target y_tar is dermerined by ROI and the size of the image shape.\n",
    "    - Finally, the two point (p_min as well as p_max) for each line are calculated.\n",
    "4. According to endpoints from step 3. The two lines for lane can be drawn onto the initial image. \n",
    "   \n",
    "\n",
    "If you'd like to include images to show how the pipeline works, here is how to include an image: \n",
    "\n",
    "![alt text][image1] [image1]: ./examples/grayscale.jpg \"Graysca\n",
    "\n",
    "\n",
    "### 2. Identify potential shortcomings with your current pipeline\n",
    "\n",
    "Using average strategie is easy but not robust. The endeffect depands on lane itself and the setting of ROI.\n",
    "\n",
    "The lane could be detected wrong when the line is not totally straght.\n",
    "Now the lane is determinted by the average position and average slope of lines. If the lane is not so straght, there will be a large difference between the slope of the front part of line and the rear one. The the average of slope will be meaningless.\n",
    "\n",
    "\n",
    "If ROI is setted not correctly , more and more noise will be introuced. Then the lane detection will be more inaccurate.\n",
    "\n",
    "\n",
    "\n",
    "### 3. Suggest possible improvements to your pipeline\n",
    "\n",
    "A possible improvement would be that using the filter to reduce the extra line.\n",
    "For instance, kalman filter could be used to remove the line, which is not the part of lane.\n",
    "\n",
    "Another potential improvement could be to use extrapolate instead of average to enhance the robustness.\n"
   ]
  }
 ],
 "metadata": {
  "kernelspec": {
   "display_name": "Python 3",
   "language": "python",
   "name": "python3"
  },
  "language_info": {
   "codemirror_mode": {
    "name": "ipython",
    "version": 3
   },
   "file_extension": ".py",
   "mimetype": "text/x-python",
   "name": "python",
   "nbconvert_exporter": "python",
   "pygments_lexer": "ipython3",
   "version": "3.5.2"
  },
  "widgets": {
   "state": {},
   "version": "1.1.2"
  }
 },
 "nbformat": 4,
 "nbformat_minor": 2
}
